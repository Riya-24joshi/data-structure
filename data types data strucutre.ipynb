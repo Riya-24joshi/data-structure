{
 "cells": [
  {
   "cell_type": "code",
   "execution_count": null,
   "id": "6b6c40b8-7b4f-4e5b-9fb9-c40409505f74",
   "metadata": {},
   "outputs": [],
   "source": [
    "#1 what are data structures , and why are they important ?\n",
    "## Data structures are ways to store, organize, and manage data in a computer so that we can use it efficiently. \n",
    "In Python, we use data structures like lists, tuples, dictionaries, sets, and more.\n",
    ">> Why Are Data Structures Important?\n",
    "Efficient Data Handling:\n",
    "They help store and access data quickly.\n",
    "\n",
    "Better Performance:\n",
    "Right data structure improves speed and memory usage.\n",
    "\n",
    "Organized Code:\n",
    "Helps write cleaner and more understandable programs.\n",
    "\n",
    "Problem Solving:\n",
    "Many coding problems require the correct use of data structures.\n",
    "\n"
   ]
  },
  {
   "cell_type": "code",
   "execution_count": null,
   "id": "8bf34b68-0568-4e7d-a96b-dc3d4ce846fb",
   "metadata": {},
   "outputs": [],
   "source": [
    "#2 Explain the difference between mutable and immutable data types with examples.\n",
    "# >>Mutable data types\n",
    "These can be changed after they are created. (You can modify, add, or remove elements.)\n",
    "\n",
    ">>Immutable Data Types:\n",
    "These cannot be changed after they are created. (If you try to change them, a new object is created.)\n",
    "\n",
    ">>Mutable Data Types Examples:\n",
    "#List\n",
    "my_list = [1, 2, 3]\n",
    "my_list[0] = 100  #You can change it\n",
    "print(my_list)  # Output: [100, 2, 3]\n",
    "\n",
    "Dictionary\n",
    "my_dict = {\"a\": 1, \"b\": 2}\n",
    "my_dict[\"a\"] = 10  #  You can update it\n",
    "print(my_dict)  # Output: {'a': 10, 'b': 2}\n",
    "\n",
    "Set\n",
    "my_set = {1, 2, 3}\n",
    "my_set.add(4)  # You can add items\n",
    "print(my_set)  # Output: {1, 2, 3, 4}\n",
    "\n",
    "\n",
    ">> Immutable Data Types Examples:\n",
    "String\n",
    "my_str = \"hello\"\n",
    "my_str[0] = \"H\"  #  Error! Strings can't be changed\n",
    "\n",
    "Tuple\n",
    "my_tuple = (1, 2, 3)\n",
    "my_tuple[0] = 100  #  Error! Tuples are immutable\n",
    "\n",
    "Integer / Float / Boolean\n",
    "a = 5\n",
    "a = a + 1  # This creates a new integer, doesn't change the old one\n",
    "\n"
   ]
  },
  {
   "cell_type": "code",
   "execution_count": null,
   "id": "df51d09c-227d-4f4b-ac61-999f25162237",
   "metadata": {},
   "outputs": [],
   "source": [
    "#3. what are the main difference between lists and tuples in python?\n",
    "#Feature\t                List\t                         Tuple\n",
    "\n",
    "Mutability\t       Mutable (can be changed)               Immutable (cannot be changed)\n",
    "Syntax\t            Square brackets: [1, 2, 3]\t           Round brackets: (1, 2, 3)\n",
    "Performance\t        Slower (more flexible)\t                   Faster (less flexible)\n",
    "Methods Available\t  More (e.g. append(), remove())\t    Fewer (mostly count and index)\n",
    "Use Case\t           Best for changing data\t                        Best for fixed, constant data\n",
    "Memory Usage\t                Uses more memory\t              Uses less memory\n",
    "\n"
   ]
  },
  {
   "cell_type": "code",
   "execution_count": null,
   "id": "ead5fd14-432b-4c53-bcb0-8b6a331d5b81",
   "metadata": {},
   "outputs": [],
   "source": [
    "#4. Describe hoe dictionaries store data.?\n",
    "#A dictionary in Python is a collection of key-value pairs.\n",
    "#Each key is unique and is used to access its associated value.\n",
    "my_dict = {\n",
    "    \"name\": \"Alice\",\n",
    "    \"age\": 25,\n",
    "    \"city\": \"New York\"\n",
    "}\n",
    "\"name\", \"age\", and \"city\" are keys.\n",
    "\n",
    "\"Alice\", 25, and \"New York\" are values."
   ]
  },
  {
   "cell_type": "code",
   "execution_count": null,
   "id": "a68f9f7d-56e4-4d76-af88-33413bb29c87",
   "metadata": {},
   "outputs": [],
   "source": [
    "#5.why might you use a set instead of a list in python?\n",
    "#Feature\t                       Set\t                                                             List\n",
    "Uniqueness            \t    Automatically removes duplicates\t                           Allows duplicates\n",
    "Speed for Lookup\t     Faster (O(1) average time)                                         Slower (O(n) time)\n",
    "Unordered                \tItems are not stored in order\t                              Items are stored in order\n",
    "Use Case              \tBest for checking existence or removing duplicates\t            Best when order matters or you need duplicates"
   ]
  },
  {
   "cell_type": "code",
   "execution_count": null,
   "id": "06ffc9a9-8aa5-44c3-aaa6-3535b4f3c3f8",
   "metadata": {},
   "outputs": [],
   "source": [
    "#6. what is string in python, and how is it different from a list?\n",
    "# A string in Python is a sequence of characters enclosed in single (') or double (\") quotes>\n",
    "# my_string = \"Hello, World!\"\n",
    "#Feature\t            String                              \tList\n",
    "Data Type\t       Sequence of characters                \t   Sequence of any data types\n",
    "Mutability\t     Immutable (can't be changed)\t              Mutable (can be changed)\n",
    "Element Type\t Only characters               \t      Can contain mixed data types\n",
    "Syntax\t        \"hello\" or 'world'                       \t     [1, 2, \"hello\"]\n"
   ]
  },
  {
   "cell_type": "code",
   "execution_count": null,
   "id": "8c19d359-459b-43a0-8f28-9fbf57d8891d",
   "metadata": {},
   "outputs": [],
   "source": [
    "#7.How do tuples ensure data integrity in python?\n",
    "# A tuple is an ordered, immutable collection of elements in Python.\n",
    "It is created using round brackets:\n",
    "my_tuple = (10, 20, 30)\n",
    ">>Immutable Nature:\n",
    "#Once a tuple is created, it cannot be changed.\n",
    "#Protection from Accidental Changes:\n",
    "Since you can’t change a tuple, it protects the data from being accidentally modified in your code.\n",
    ">>Safe to Use as Keys in Dictionaries:\n",
    "Because they are immutable, tuples can be used as dictionary keys, while lists cannot.\n",
    "\n",
    "\n",
    "\n",
    "\n"
   ]
  },
  {
   "cell_type": "code",
   "execution_count": null,
   "id": "70ec7ed3-7198-4843-8b11-77584313d413",
   "metadata": {},
   "outputs": [],
   "source": [
    "#8 what is hash table ,and how does it relate to dictionaries in python?\n",
    "# A hash table is a data structure that stores data in key-value pairs.\n",
    "It uses a hash function to convert each key into a unique index (called a hash code) that decides where to store the value in memory.\n",
    " Relation to Python Dictionaries:\n",
    "In Python, the dict (dictionary) is implemented using a hash table.\n",
    "Each key in a dictionary is hashed, and its value is placed at the corresponding location in memory.\n"
   ]
  },
  {
   "cell_type": "code",
   "execution_count": null,
   "id": "ce88dcb5-74c7-4356-b59c-005c7dbb8986",
   "metadata": {},
   "outputs": [],
   "source": [
    "#9. Can list contain different data types in python?\n",
    "#A Python list is a heterogeneous data structure.And YES, a list can contain different data types in Python.\n",
    "Python lists are very flexible — they can store a mix of data types in the same list.\n",
    "This list contains:\n",
    "An integer → 10\n",
    "A string → \"hello\"\n",
    "A float → 3.14\n",
    "A boolean → True\n",
    "A nested list → [1, 2]\n",
    "A dictionary → {\"a\":1}    \n",
    "\n",
    "\n",
    "\n"
   ]
  },
  {
   "cell_type": "code",
   "execution_count": null,
   "id": "36ed1427-a4d8-43d7-b8ad-76916813878c",
   "metadata": {},
   "outputs": [],
   "source": [
    "#10 explain why string are immutable in python?\n",
    "#Data Safety & Integrity\n",
    "Since strings are used a lot (especially for keys, messages, file names), immutability ensures they can't be changed accidentally.\n",
    "\n",
    "This makes code more secure and bug-free.\n",
    " Performance Optimization\n",
    "Python stores some strings in memory-efficient ways using techniques like string interning.\n",
    "Immutability allows safe sharing of strings without copying them.\n",
    " Hashable for Dictionary Keys\n",
    "Only immutable objects can be used as dictionary keys or set elements.\n",
    "Since strings are immutable, they can be safely hashed and used in hash tables.\n",
    " Simpler Memory Management\n",
    "Immutability avoids unexpected behavior when multiple variables refer to the same string.\n",
    "\n"
   ]
  },
  {
   "cell_type": "code",
   "execution_count": null,
   "id": "55699e77-820d-4301-a3c2-d4bcd2bc67f1",
   "metadata": {},
   "outputs": [],
   "source": [
    "#11. what advantage do dictionarie offer over list for certain tasks?\n",
    "Feature\t                                  Dictionaries (dict)\t                                         Lists (list)\n",
    " Access by Key\t             Access values using meaningful keys (data[\"name\"])\t                 Access only by index (data[0])\n",
    " Faster Lookup\t                  Lookup time is O(1) (very fast)                \t          Lookup time is O(n) (slower if large)\n",
    " No Duplicates in Keys\t      Keys are unique, preventing accidental overwrites\t                Lists can have duplicate values\n",
    " More Descriptive Data\t        Great for structured data (like user info, settings)\t           Lists are better for ordered sequences"
   ]
  },
  {
   "cell_type": "code",
   "execution_count": null,
   "id": "1e0f2105-6b25-4811-944d-d8af7504e45b",
   "metadata": {},
   "outputs": [],
   "source": [
    "#12.describe a scenario where is using a tuple would be preefreable over a list?\n",
    "#location = (40.7128, -74.0060)  # Tuple: (latitude, longitude)\n",
    "These values should not change during the program.\n",
    "Tuples make sure the data stays safe and read-only.\n",
    "\n"
   ]
  },
  {
   "cell_type": "code",
   "execution_count": null,
   "id": "d7c7ed98-659d-4e4d-beb1-71676811b2cd",
   "metadata": {},
   "outputs": [],
   "source": [
    "13.how do sets handle duplicate values in python?\n",
    "#A set is an unordered collection of unique elements.\n",
    "When you add duplicate values to a set, only one copy is kept.\n",
    "This happens automatically — you don’t need to filter duplicates manually."
   ]
  },
  {
   "cell_type": "code",
   "execution_count": null,
   "id": "7ab934fb-9dc5-4619-8d1c-1d48868085c6",
   "metadata": {},
   "outputs": [],
   "source": [
    "#14.how does the \"in\" keyword work differently for list and dictionaries?\n",
    "#Feature\t                              List\t                                                 Dictionary\n",
    "What it checks\t              Checks if a value exists                                     \tChecks if a key exists\n",
    "Example\t                       3 in [1, 2, 3] → True\t                                  \"name\" in {\"name\": \"Alice\"} → True\n",
    "                              \"Alice\" in [1, \"Alice\", True] → True                                  \t\"Alice\" in {\"name\": \"Alice\"} → False\n",
    "Search Type\t                 Searches all elements (linear)                               \tChecks only keys (faster, uses hashing)\n",
    "Time Complexity\tO(n) —            slower for large lists                                              \tO(1) — fast key lookup"
   ]
  },
  {
   "cell_type": "code",
   "execution_count": null,
   "id": "37b38edc-410f-4bea-bf86-6388a50c99af",
   "metadata": {},
   "outputs": [],
   "source": [
    "#15 Can you modify the element of a tuple? explain why or why not?\n",
    "A tuple is an immutable data type, which means:\n",
    "You cannot change, add, or remove elements after the tuple is created.\n",
    "Attempting to do so will result in an error."
   ]
  },
  {
   "cell_type": "code",
   "execution_count": null,
   "id": "04ad2ed5-49be-432e-8a81-0e73995f0f5b",
   "metadata": {},
   "outputs": [],
   "source": [
    "#16.what is nested dictionary, and give an example of its use case?\n",
    "A nested dictionary is a dictionary inside another dictionary.\n",
    "It allows you to store multiple levels of related data.\n",
    "students = {\n",
    "    \"101\": {\n",
    "        \"name\": \"Alice\",\n",
    "        \"grades\": {\"math\": 90, \"science\": 85}\n",
    "    },\n",
    "    \"102\": {\n",
    "        \"name\": \"Bob\",\n",
    "        \"grades\": {\"math\": 78, \"science\": 88}\n",
    "    }\n",
    "}\n",
    "\"101\" and \"102\" are student IDs.\n",
    "print(students[\"102\"][\"grades\"][\"science\"])  # Output: 88\n",
    "\n"
   ]
  },
  {
   "cell_type": "code",
   "execution_count": null,
   "id": "a3bd6083-7136-44b0-9aba-c7e82ffd94d7",
   "metadata": {},
   "outputs": [],
   "source": [
    "#17 describe the time complexity of accessing element in a dictionary?\n",
    " O(1) — Constant Time\n",
    "Dictionaries in Python are implemented using a hash table.\n",
    "\n",
    "When you access an element by its key:\n",
    "\n",
    "Python calculates the hash value of the key.\n",
    "\n",
    "It directly jumps to the memory location where the value is stored.\n"
   ]
  },
  {
   "cell_type": "code",
   "execution_count": null,
   "id": "bcc3c651-d21a-4eff-baf0-84fd6b8d947c",
   "metadata": {},
   "outputs": [],
   "source": [
    "#18,in what situTIONS ARE LIST preferred over dictionaries?\n",
    "Use lists when you need to store ordered collections of items without unique keys — especially when order and indexing matter."
   ]
  },
  {
   "cell_type": "code",
   "execution_count": null,
   "id": "f11f7947-9ee5-4620-a6e3-15dfb3c3e8d2",
   "metadata": {},
   "outputs": [],
   "source": [
    "#19why are dictionaries  considered unorderd , and how does that affect data retriveal?\n",
    "dictionaries were considered unordered collections. That means they stored key–value pairs without guaranteeing any consistent order of items.\n",
    "Here’s why:\n",
    "Dictionaries are designed for fast access—not sequence.\n",
    "Under the hood, they use a hash table, where each key's hash determines where it’s stored.\n",
    "                         No predictable sequence: If you iterated through a dictionary, the order of keys wasn’t guaranteed."
   ]
  },
  {
   "cell_type": "code",
   "execution_count": null,
   "id": "b3b1b2d7-fd75-4820-8104-75a98cfdc181",
   "metadata": {},
   "outputs": [],
   "source": [
    "#20. explain the difference between a list and dictionaries in term of data retirveal?\n",
    "\n",
    "Feature\t                               List\t                                Dictionary\n",
    " Structure\t              Ordered collection of items\t          Unordered (or insertion-ordered) key–value pairs\n",
    " Access Method\t          By index (e.g., list[0])\t                      By key (e.g., dict[\"name\"])\n",
    " Retrieval Speed\t      Slower for search (O(n))\t              Fast lookup (O(1)) via hash table\n",
    " Use Case\t            Best for sequences or arrays\t                       Best for mapping and fast access\n",
    "Flexibility               \tItems don’t have names\t                     Each value has a unique key"
   ]
  },
  {
   "cell_type": "code",
   "execution_count": null,
   "id": "c33eb104-88a1-4f02-b094-cd1a84abeed6",
   "metadata": {},
   "outputs": [],
   "source": [
    "practicle questions"
   ]
  },
  {
   "cell_type": "code",
   "execution_count": null,
   "id": "444cf6fe-d2c2-4b5c-b81c-1e79410d8ff4",
   "metadata": {},
   "outputs": [],
   "source": [
    "#2. write code  to find the lenght of the string\"hello world\""
   ]
  },
  {
   "cell_type": "code",
   "execution_count": 4,
   "id": "f6a56c64-c8de-4dbd-96f4-df30806b9aea",
   "metadata": {},
   "outputs": [
    {
     "name": "stdout",
     "output_type": "stream",
     "text": [
      "Riya\n"
     ]
    }
   ],
   "source": [
    "#1. write code to create a string with your name and print it.?\n",
    "name = \"Riya\"\n",
    "print(name)"
   ]
  },
  {
   "cell_type": "code",
   "execution_count": 5,
   "id": "2acd671a-984d-4a5f-93fb-4384454ebc03",
   "metadata": {},
   "outputs": [
    {
     "data": {
      "text/plain": [
       "10"
      ]
     },
     "execution_count": 5,
     "metadata": {},
     "output_type": "execute_result"
    }
   ],
   "source": [
    "#2. write a code to find th lenht of the string \"hello world\"\n",
    "len(\"helloworld\")"
   ]
  },
  {
   "cell_type": "code",
   "execution_count": 6,
   "id": "f74506a0-b60b-4a4e-8bf4-63c129c4064e",
   "metadata": {},
   "outputs": [
    {
     "name": "stdout",
     "output_type": "stream",
     "text": [
      "pyt\n"
     ]
    }
   ],
   "source": [
    "3#write a code to slice the first 3 charchcters from the string \"python programme\"\n",
    "text = \"python programme\"\n",
    "first_three = text[:3]\n",
    "print(first_three)  # Output: pyt"
   ]
  },
  {
   "cell_type": "code",
   "execution_count": 19,
   "id": "b88d7659-e11c-4267-92ee-81490a9ea9c5",
   "metadata": {},
   "outputs": [
    {
     "name": "stdout",
     "output_type": "stream",
     "text": [
      "HELLO\n"
     ]
    }
   ],
   "source": [
    "#4write a code to convert the string \"hello\" in upper case?\n",
    "# Original string\n",
    "text = \"hello\"\n",
    "\n",
    "# Convert to uppercase\n",
    "uppercase_text = text.upper()\n",
    "\n",
    "# Print the result\n",
    "print(uppercase_text)  # Output: HELLO\n"
   ]
  },
  {
   "cell_type": "code",
   "execution_count": 21,
   "id": "58dafdbe-fe75-45d5-9be7-83972266ed82",
   "metadata": {},
   "outputs": [
    {
     "name": "stdout",
     "output_type": "stream",
     "text": [
      "i like orange\n"
     ]
    }
   ],
   "source": [
    "#5 write code to replacce the wrod\"apple \" with \"orange\" in the string \"i like ap# Original string\n",
    "text = \"i like apple\"\n",
    "\n",
    "# Replace \"apple\" with \"orange\"\n",
    "new_text = text.replace(\"apple\", \"orange\")\n",
    "\n",
    "# Print the updated string\n",
    "print(new_text)  # Output: i like orange\n"
   ]
  },
  {
   "cell_type": "code",
   "execution_count": 34,
   "id": "00d9c27d-ff74-4fcb-91a8-c243a8824b22",
   "metadata": {},
   "outputs": [
    {
     "name": "stdout",
     "output_type": "stream",
     "text": [
      "[1, 2, 3, 4, 5]\n"
     ]
    }
   ],
   "source": [
    "#6 write a code to create a list with number 1 to 5 and print \n",
    "numbers = list(range(1, 6))\n",
    "print(numbers)  # Output: [1, 2, 3, 4, 5]"
   ]
  },
  {
   "cell_type": "code",
   "execution_count": 35,
   "id": "edd5045c-adcf-4f67-9615-6fff1d40b639",
   "metadata": {},
   "outputs": [
    {
     "name": "stdout",
     "output_type": "stream",
     "text": [
      "[1, 2, 3, 4, 10]\n"
     ]
    }
   ],
   "source": [
    "#7 write a code to append the number 10 to the list[1,2,3,4]?\n",
    "numbers = [1, 2, 3, 4]\n",
    "numbers.append(10)\n",
    "print(numbers)  \n"
   ]
  },
  {
   "cell_type": "code",
   "execution_count": 36,
   "id": "8be787be-c3bb-4ff1-8908-dff066e1b371",
   "metadata": {},
   "outputs": [
    {
     "name": "stdout",
     "output_type": "stream",
     "text": [
      "[1, 2, 4, 5]\n"
     ]
    }
   ],
   "source": [
    "#8 write code to remove 3 from the list[1,2,3,4,5]\n",
    "numbers = [1, 2, 3, 4, 5]\n",
    "numbers.remove(3)\n",
    "print(numbers)  \n"
   ]
  },
  {
   "cell_type": "code",
   "execution_count": 37,
   "id": "af6264c1-346b-4a96-a0e6-97ac8f33b995",
   "metadata": {},
   "outputs": [
    {
     "name": "stdout",
     "output_type": "stream",
     "text": [
      "b\n"
     ]
    }
   ],
   "source": [
    "#9 write a code to acces 2 elecment in the list {'a','b','c','d'}\n",
    "list = ['a', 'b', 'c', 'd']\n",
    "\n",
    "second_item = list[1]\n",
    "print(second_item) "
   ]
  },
  {
   "cell_type": "code",
   "execution_count": 40,
   "id": "0ba6e996-ea15-4981-96a3-21345786b58a",
   "metadata": {},
   "outputs": [
    {
     "name": "stdout",
     "output_type": "stream",
     "text": [
      "[50, 40, 30, 20, 10]\n"
     ]
    }
   ],
   "source": [
    "#10 write a code to reverse the list[10,20,30,40,50]\n",
    "list = [10,20,30,40,50]\n",
    "reverse_list = list[::-1]\n",
    "print(reverse_list)\n"
   ]
  },
  {
   "cell_type": "code",
   "execution_count": 41,
   "id": "5844d22a-ebfc-41d0-ac4f-b431c4c3cff0",
   "metadata": {},
   "outputs": [
    {
     "name": "stdout",
     "output_type": "stream",
     "text": [
      "(100, 200, 300)\n"
     ]
    }
   ],
   "source": [
    "#11 write a code to create a tuple with the element 100,200,300 and print it.\n",
    "values = (100, 200, 300)\n",
    "print(values)"
   ]
  },
  {
   "cell_type": "code",
   "execution_count": 45,
   "id": "b1d5a888-670b-4ad2-b318-df434f72da41",
   "metadata": {},
   "outputs": [
    {
     "name": "stdout",
     "output_type": "stream",
     "text": [
      "blue\n"
     ]
    }
   ],
   "source": [
    "#12write a code to acces the second element to the last element of the tuple ('red','green','blue','yellow')\n",
    "tuple = ('red','green','blue','yellow')\n",
    "new_list = tuple[2]\n",
    "print(new_list)"
   ]
  },
  {
   "cell_type": "code",
   "execution_count": 46,
   "id": "1f8da14c-a2c0-468d-972d-a3fd6807415c",
   "metadata": {},
   "outputs": [
    {
     "name": "stdout",
     "output_type": "stream",
     "text": [
      "Minimum value is: 5\n"
     ]
    }
   ],
   "source": [
    "#13  13. Write a code to find the minimum number in the tuple (10, 20, 5, 15)\n",
    "numbers = (10, 20, 5, 15)\n",
    "min_value = min(numbers)\n",
    "print(\"Minimum value is:\", min_value)  \n"
   ]
  },
  {
   "cell_type": "code",
   "execution_count": 49,
   "id": "c2890c03-ec71-40ec-8ab4-d5ecf891cbba",
   "metadata": {},
   "outputs": [
    {
     "name": "stdout",
     "output_type": "stream",
     "text": [
      "1\n"
     ]
    }
   ],
   "source": [
    "#14. Write a code to find the index of the element \"cat\" in the tuple ('dog', 'cat', 'rabbit').\n",
    "# Given tuple\n",
    "pets = ('dog', 'cat', 'rabbit')\n",
    "\n",
    "# Find the index of 'cat'\n",
    "idx = pets.index('cat')\n",
    "\n",
    "# Print the result\n",
    "print(idx)  # Output: Index of 'cat': 1\n"
   ]
  },
  {
   "cell_type": "code",
   "execution_count": 50,
   "id": "9a88c02b-4d1d-4a22-a586-2882e150c54d",
   "metadata": {},
   "outputs": [
    {
     "name": "stdout",
     "output_type": "stream",
     "text": [
      "No, 'kiwi' is not in the tuple.\n"
     ]
    }
   ],
   "source": [
    "# 15. Write a code to create a tuple containing three different fruits and check if \"kiwi\" is in it\n",
    "# Create a tuple with three fruits\n",
    "fruits = (\"apple\", \"banana\", \"orange\")\n",
    "\n",
    "# Check if 'kiwi' is in the tuple\n",
    "if \"kiwi\" in fruits:\n",
    "    print(\"Yes, 'kiwi' is in the tuple.\")\n",
    "else:\n",
    "    print(\"No, 'kiwi' is not in the tuple.\")\n"
   ]
  },
  {
   "cell_type": "code",
   "execution_count": null,
   "id": "4c52691f-e005-439e-841b-4ef4b4685546",
   "metadata": {},
   "outputs": [],
   "source": [
    "# 16. Write a code to create a set with the elements 'a', 'b', 'c' and print it\n",
    "# Create the set\n",
    "letters = {'a', 'b', 'c'}\n",
    "\n",
    "# Print the set\n",
    "print(letters)  # Output might be in any order, e.g., {'b', 'a', 'c'}\n"
   ]
  },
  {
   "cell_type": "code",
   "execution_count": 51,
   "id": "c43cd7f1-3417-43b4-a435-0ce2de16ba7c",
   "metadata": {},
   "outputs": [
    {
     "name": "stdout",
     "output_type": "stream",
     "text": [
      "set()\n"
     ]
    }
   ],
   "source": [
    "#1717. Write a code to clear all elements from the set {1, 2, 3, 4, 5}.\n",
    "numbers = {1, 2, 3, 4, 5}\n",
    "numbers.clear()\n",
    "print(numbers)"
   ]
  },
  {
   "cell_type": "code",
   "execution_count": 53,
   "id": "6602f128-516f-4ec6-8bff-56cc9ef24405",
   "metadata": {},
   "outputs": [
    {
     "name": "stdout",
     "output_type": "stream",
     "text": [
      "{1, 2, 3}\n"
     ]
    }
   ],
   "source": [
    " #18Write a code to remove the element 4 from the set {1, 2, 3, 4}\n",
    "numbers = {1, 2, 3, 4}\n",
    "numbers.remove(4)\n",
    "\n",
    "print(numbers) \n"
   ]
  },
  {
   "cell_type": "code",
   "execution_count": 54,
   "id": "6cabc728-5e7a-4a95-aa73-e61a5905d574",
   "metadata": {},
   "outputs": [
    {
     "name": "stdout",
     "output_type": "stream",
     "text": [
      "{1, 2, 3, 4, 5}\n"
     ]
    }
   ],
   "source": [
    "#19Write a code to find the union of two sets {1, 2, 3} and {3, 4, 5}?\n",
    "# Using the '|' operator\n",
    "set1 = {1, 2, 3}\n",
    "set2 = {3, 4, 5}\n",
    "union_set = set1 | set2\n",
    "print(union_set)  # Output: {1, 2, 3, 4, 5}\n"
   ]
  },
  {
   "cell_type": "code",
   "execution_count": 55,
   "id": "075d4be9-1025-4811-890c-7ac15f36df73",
   "metadata": {},
   "outputs": [
    {
     "name": "stdout",
     "output_type": "stream",
     "text": [
      "{3}\n"
     ]
    }
   ],
   "source": [
    "#20. Write a code to find the intersection of two sets {1, 2, 3} and {2, 3, 4}.\n",
    "common2 = set1 & set2\n",
    "print(common2)"
   ]
  },
  {
   "cell_type": "code",
   "execution_count": 56,
   "id": "f1a17feb-f699-4d21-a61e-3eef7ba311f0",
   "metadata": {},
   "outputs": [
    {
     "name": "stdout",
     "output_type": "stream",
     "text": [
      "{'name': 'Riya', 'age': 25, 'city': 'Delhi'}\n"
     ]
    }
   ],
   "source": [
    "#21. Write a code to create a dictionary with the keys \"name\", \"age\", and \"city\", and print it\n",
    "person = {\n",
    "    \"name\": \"Riya\",\n",
    "    \"age\": 25,\n",
    "    \"city\": \"Delhi\"\n",
    "}\n",
    "\n",
    "# Print the dictionary\n",
    "print(person)  \n"
   ]
  },
  {
   "cell_type": "code",
   "execution_count": 71,
   "id": "9a99d9a8-9f6f-46c0-a46f-8d291bfd9359",
   "metadata": {},
   "outputs": [
    {
     "name": "stdout",
     "output_type": "stream",
     "text": [
      "{'name': 'John', 'age': '25', 'country': ['USA']}\n"
     ]
    }
   ],
   "source": [
    "#22. Write a code to add a new key-value pair \"country\": \"USA\" to the dictionary {'name': 'John', 'age': 25}.\n",
    "\n",
    "person = {'name': 'John', 'age': '25'}\n",
    "person['country'] = ['USA']\n",
    "print(person)  # Output: {'name': 'John', 'age': 25, 'country': 'USA'}\n"
   ]
  },
  {
   "cell_type": "code",
   "execution_count": 73,
   "id": "ca1a3a43-c2e9-4416-abe3-6344d87afaee",
   "metadata": {},
   "outputs": [
    {
     "data": {
      "text/plain": [
       "'alice'"
      ]
     },
     "execution_count": 73,
     "metadata": {},
     "output_type": "execute_result"
    }
   ],
   "source": [
    "#23 23. Write a code to access the value associated with the key \"name\" in the dictionary {'name': 'Alice', 'age': 30}\n",
    "d = {'name': 'alice'}\n",
    "d['name']"
   ]
  },
  {
   "cell_type": "code",
   "execution_count": null,
   "id": "e8054146-f26b-49b0-8f89-8caa99e7debb",
   "metadata": {},
   "outputs": [],
   "source": [
    " 24. Write a code to remove the key \"age\" from the dictionary {'name': 'Bob', 'age': 22, 'city': 'New York'}."
   ]
  },
  {
   "cell_type": "code",
   "execution_count": 74,
   "id": "4cb5739e-f0c2-4e28-97f2-2e419cedab77",
   "metadata": {},
   "outputs": [
    {
     "name": "stdout",
     "output_type": "stream",
     "text": [
      "{'name': 'Bob', 'city': 'New York'}\n"
     ]
    }
   ],
   "source": [
    "person = {'name': 'Bob', 'age': 22, 'city': 'New York'}\n",
    "\n",
    "del person['age']\n",
    "\n",
    "print(person)  # {'name': 'Bob', 'city': 'New York'}\n"
   ]
  },
  {
   "cell_type": "code",
   "execution_count": 75,
   "id": "d9be2611-b6fd-4453-8130-b22c7ed63620",
   "metadata": {},
   "outputs": [],
   "source": [
    " #25. Write a code to check if the key \"city\" exists in the dictionary {'name': 'Alice', 'city': 'Paris'}"
   ]
  },
  {
   "cell_type": "code",
   "execution_count": 76,
   "id": "d10454dd-9977-4760-8530-09e8e48406d8",
   "metadata": {},
   "outputs": [
    {
     "name": "stdout",
     "output_type": "stream",
     "text": [
      "Yes, the key 'city' exists.\n"
     ]
    }
   ],
   "source": [
    "# Given dictionary\n",
    "person = {'name': 'Alice', 'city': 'Paris'}\n",
    "\n",
    "# Check if the key 'city' exists\n",
    "if 'city' in person:\n",
    "    print(\"Yes, the key 'city' exists.\")\n",
    "else:\n",
    "    print(\"No, the key 'city' does not exist.\")\n"
   ]
  },
  {
   "cell_type": "code",
   "execution_count": null,
   "id": "9bc28ac8-f2bc-41bb-9fd9-519a7405a332",
   "metadata": {},
   "outputs": [],
   "source": [
    " 26. Write a code to create a list, a tuple, and a dictionary, and print them all.\n",
    " 27. Write a code to create a list of 5 random numbers between 1 and 100, sort it in ascending order, and print the \n",
    "28. Write a code to create a list with strings and print the element at the third index.\n",
    " 29. Write a code to combine two dictionaries into one and print the result.\n",
    " 30. Write a code to convert a list of strings into a set"
   ]
  },
  {
   "cell_type": "code",
   "execution_count": 77,
   "id": "7ebf22a9-820b-46ff-b25d-edfee456ea28",
   "metadata": {},
   "outputs": [
    {
     "name": "stdout",
     "output_type": "stream",
     "text": [
      "[1, 2, 3]\n",
      "('a', 'b', 'c')\n",
      "{'name': 'Alice', 'age': 30}\n"
     ]
    }
   ],
   "source": [
    "# List\n",
    "my_list = [1, 2, 3]\n",
    "\n",
    "# Tuple\n",
    "my_tuple = ('a', 'b', 'c')\n",
    "\n",
    "# Dictionary\n",
    "my_dict = {'name': 'Alice', 'age': 30}\n",
    "\n",
    "# Print all\n",
    "print(my_list)\n",
    "print(my_tuple)\n",
    "print(my_dict)\n"
   ]
  },
  {
   "cell_type": "code",
   "execution_count": 80,
   "id": "2e9b606e-9a91-4e39-b021-c21a5990663d",
   "metadata": {},
   "outputs": [],
   "source": [
    "sorted_numbers = sorted(numbers)"
   ]
  },
  {
   "cell_type": "code",
   "execution_count": 81,
   "id": "d4119a6a-98d9-464b-8c3b-263b078af229",
   "metadata": {},
   "outputs": [
    {
     "name": "stdout",
     "output_type": "stream",
     "text": [
      "date\n"
     ]
    }
   ],
   "source": [
    "words = [\"apple\", \"banana\", \"cherry\", \"date\", \"elderberry\"]\n",
    "print(words[3])  # Output: date\n"
   ]
  },
  {
   "cell_type": "code",
   "execution_count": 82,
   "id": "28843dd8-d26a-4edb-87e6-95f51425dace",
   "metadata": {},
   "outputs": [
    {
     "name": "stdout",
     "output_type": "stream",
     "text": [
      "{'a': 1, 'b': 2, 'c': 3, 'd': 4}\n"
     ]
    }
   ],
   "source": [
    "dict1 = {'a': 1, 'b': 2}\n",
    "dict2 = {'c': 3, 'd': 4}\n",
    "\n",
    "dict1.update(dict2)\n",
    "print(dict1)  # {'a': 1, 'b': 2, 'c': 3, 'd': 4}\n"
   ]
  },
  {
   "cell_type": "code",
   "execution_count": null,
   "id": "6f7abad5-55bd-4ce3-aca2-870ff5a91188",
   "metadata": {},
   "outputs": [],
   "source": []
  }
 ],
 "metadata": {
  "kernelspec": {
   "display_name": "Python 3 (ipykernel)",
   "language": "python",
   "name": "python3"
  },
  "language_info": {
   "codemirror_mode": {
    "name": "ipython",
    "version": 3
   },
   "file_extension": ".py",
   "mimetype": "text/x-python",
   "name": "python",
   "nbconvert_exporter": "python",
   "pygments_lexer": "ipython3",
   "version": "3.13.5"
  }
 },
 "nbformat": 4,
 "nbformat_minor": 5
}
